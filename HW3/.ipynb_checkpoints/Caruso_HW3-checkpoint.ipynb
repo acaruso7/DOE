{
 "cells": [
  {
   "cell_type": "markdown",
   "metadata": {},
   "source": [
    "![alt text](q1.PNG \"Q1\")"
   ]
  },
  {
   "cell_type": "code",
   "execution_count": 74,
   "metadata": {},
   "outputs": [
    {
     "name": "stdout",
     "output_type": "stream",
     "text": [
      "np > 5: True\n",
      "n(1-p) > 5: True\n",
      "\n",
      "\n",
      "a.) 95% confidence interval for population proportion: 0.538 <= pi <= 0.582\n",
      "b.) This means that if repeated samples are taken, the population proportion pi will fall within the constructed confidence interval in 95% of those samples. There is 95% confidence that the confidence interval constructed using the sample proportion 56% contains the true population proportion\n",
      "c.) Margin of Error: 0.022\n"
     ]
    }
   ],
   "source": [
    "from math import sqrt\n",
    "\n",
    "p = 0.56\n",
    "alpha = 0.05\n",
    "n = 2000\n",
    "\n",
    "#Check if number of successes & failures both > 5\n",
    "print('np > 5: ' + str(n*p>5))\n",
    "print('n(1-p) > 5: ' + str(n*(1-p)>5))\n",
    "\n",
    "z = 1.96\n",
    "std_error = sqrt((p*(1-p)) / n)\n",
    "\n",
    "#calculate confidence interval: p +/- z*std_error\n",
    "mrg_of_error = z*std_error\n",
    "lower = p - mrg_of_error\n",
    "upper = p + mrg_of_error\n",
    "\n",
    "print('\\n')\n",
    "print('a.) 95% confidence interval for population proportion: ' + str(round(lower,3)) + ' <= pi <= ' + str(round(upper,3)))\n",
    "print('b.) This means that if repeated samples are taken, the population proportion pi will fall within the ' \\\n",
    "     + 'constructed confidence interval in 95% of those samples. There is 95% confidence that the confidence ' \\\n",
    "     + 'interval constructed using the sample proportion 56% contains the true population proportion')\n",
    "print('c.) Margin of Error: ' + str(round(mrg_of_error,3)))"
   ]
  },
  {
   "cell_type": "code",
   "execution_count": 71,
   "metadata": {},
   "outputs": [
    {
     "name": "stdout",
     "output_type": "stream",
     "text": [
      "The required sample size to construct a 95% C.I. for pi with margin of error 2% is 2401\n",
      "The required sample size to construct a 99% C.I. for pi with margin of error 2% is 4160\n"
     ]
    }
   ],
   "source": [
    "#PART D\n",
    "z = 1.96\n",
    "e = .02\n",
    "\n",
    "n = (z**2)*(0.5*0.5) / (.02**2)\n",
    "print('The required sample size to construct a 95% C.I. for pi with margin of error 2% is ' + str(round(n)))\n",
    "\n",
    "z = 2.58\n",
    "n = (z**2)*(0.5*0.5) / (.02**2)\n",
    "print('The required sample size to construct a 99% C.I. for pi with margin of error 2% is ' + str(round(n)))"
   ]
  },
  {
   "cell_type": "markdown",
   "metadata": {},
   "source": [
    "![alt text](q2.PNG \"Q2\")"
   ]
  },
  {
   "cell_type": "code",
   "execution_count": 20,
   "metadata": {},
   "outputs": [
    {
     "name": "stdout",
     "output_type": "stream",
     "text": [
      "p-value: 0.0029\n",
      "Reject H0 and suggest H1\n",
      "It is likely that introducing flex-time actually reduced absenteeism, as the calculated p-value indicates that the probability that the test statistic of 5.5 days being at least that extreme is extremely low (only 0.29%), assuming the null hypothesis is true. Therefore, the reduction in avg days off from work calculated is NOT due to random chance\n"
     ]
    }
   ],
   "source": [
    "import scipy.stats as st\n",
    "# PART A\n",
    "# H0: u = 6.3\n",
    "# H1: u < 6.3\n",
    "u = 6.3\n",
    "n = 100\n",
    "sample_mean = 5.5\n",
    "SD = 2.9\n",
    "\n",
    "z = (sample_mean - u) / (SD / sqrt(n))\n",
    "p_value = st.norm.cdf(z)\n",
    "print('p-value: ' + str(round(p_value,4)))\n",
    "print('Reject H0 and suggest H1')\n",
    "print('It is likely that introducing flex-time actually reduced absenteeism, as the calculated' \\\n",
    "      + ' p-value indicates that the probability that the test statistic of 5.5 days being at least' \\\n",
    "      + ' that extreme is extremely low (only 0.29%), assuming the null hypothesis is true. Therefore,' \\\n",
    "      + ' the reduction in avg days off from work calculated is NOT due to random chance')"
   ]
  },
  {
   "cell_type": "code",
   "execution_count": 27,
   "metadata": {},
   "outputs": [
    {
     "name": "stdout",
     "output_type": "stream",
     "text": [
      "p-value: 0.0839\n",
      "Assuming alpha=0.05, Fail to reject H0, and Reject H1\n",
      "If the sample mean is 5.9 and hypothesis tests are carried out at a 5% significance level, then it is likely that the reduction in absenteeism relative to the population mean of 6.3 is due to random chance, and NOT the  the introduction of flex-time. The calculated p-value of 0.0839 indicates that the probability that a test statistic at least as extreme as 5.9 occurs, assuming H0 is true, is about 8.39%. This is high enough to conclude that the reduction in absenteeism may be due to random chance, and not the introduction of flex-time\n"
     ]
    }
   ],
   "source": [
    "# PART B\n",
    "# H0: u = 6.3\n",
    "# H1: u < 6.3\n",
    "u = 6.3\n",
    "n = 100\n",
    "sample_mean = 5.9\n",
    "SD = 2.9\n",
    "\n",
    "z = (sample_mean - u) / (SD / sqrt(n))\n",
    "p_value = st.norm.cdf(z)\n",
    "print('p-value: ' + str(round(p_value,4)))\n",
    "print('Assuming alpha=0.05, Fail to reject H0, and Reject H1')\n",
    "print('If the sample mean is 5.9 and hypothesis tests are carried out at a 5% significance level, then it is likely ' \\\n",
    "      + 'that the reduction in absenteeism relative to the population mean of 6.3 is due to random chance, and NOT the ' \\\n",
    "      + ' the introduction of flex-time. The calculated p-value of 0.0839 indicates that the probability that a test ' \\\n",
    "      + 'statistic at least as extreme as 5.9 occurs, assuming H0 is true, is about 8.39%. This is high enough to ' \\\n",
    "      + 'conclude that the reduction in absenteeism may be due to random chance, and not the introduction of flex-time')"
   ]
  },
  {
   "cell_type": "markdown",
   "metadata": {},
   "source": [
    "![alt text](q3.PNG \"Q3\")"
   ]
  },
  {
   "cell_type": "code",
   "execution_count": 48,
   "metadata": {},
   "outputs": [
    {
     "data": {
      "text/html": [
       "<div>\n",
       "<style scoped>\n",
       "    .dataframe tbody tr th:only-of-type {\n",
       "        vertical-align: middle;\n",
       "    }\n",
       "\n",
       "    .dataframe tbody tr th {\n",
       "        vertical-align: top;\n",
       "    }\n",
       "\n",
       "    .dataframe thead th {\n",
       "        text-align: right;\n",
       "    }\n",
       "</style>\n",
       "<table border=\"1\" class=\"dataframe\">\n",
       "  <thead>\n",
       "    <tr style=\"text-align: right;\">\n",
       "      <th></th>\n",
       "      <th>Name</th>\n",
       "      <th>Oral</th>\n",
       "      <th>Tympanic</th>\n",
       "      <th>difference</th>\n",
       "    </tr>\n",
       "  </thead>\n",
       "  <tbody>\n",
       "    <tr>\n",
       "      <th>0</th>\n",
       "      <td>John</td>\n",
       "      <td>96.9</td>\n",
       "      <td>98.5</td>\n",
       "      <td>1.6</td>\n",
       "    </tr>\n",
       "    <tr>\n",
       "      <th>1</th>\n",
       "      <td>Andrew</td>\n",
       "      <td>98.0</td>\n",
       "      <td>98.4</td>\n",
       "      <td>0.4</td>\n",
       "    </tr>\n",
       "    <tr>\n",
       "      <th>2</th>\n",
       "      <td>Sally</td>\n",
       "      <td>100.5</td>\n",
       "      <td>101.5</td>\n",
       "      <td>1.0</td>\n",
       "    </tr>\n",
       "    <tr>\n",
       "      <th>3</th>\n",
       "      <td>Joanie</td>\n",
       "      <td>98.3</td>\n",
       "      <td>99.5</td>\n",
       "      <td>1.2</td>\n",
       "    </tr>\n",
       "    <tr>\n",
       "      <th>4</th>\n",
       "      <td>Kevin</td>\n",
       "      <td>97.7</td>\n",
       "      <td>98.0</td>\n",
       "      <td>0.3</td>\n",
       "    </tr>\n",
       "  </tbody>\n",
       "</table>\n",
       "</div>"
      ],
      "text/plain": [
       "     Name   Oral  Tympanic  difference\n",
       "0    John   96.9      98.5         1.6\n",
       "1  Andrew   98.0      98.4         0.4\n",
       "2   Sally  100.5     101.5         1.0\n",
       "3  Joanie   98.3      99.5         1.2\n",
       "4   Kevin   97.7      98.0         0.3"
      ]
     },
     "metadata": {},
     "output_type": "display_data"
    }
   ],
   "source": [
    "import pandas as pd\n",
    "df = pd.read_csv('Therm.csv', sep=',')\n",
    "display(df.head()) #first 5 rows"
   ]
  },
  {
   "cell_type": "code",
   "execution_count": 34,
   "metadata": {},
   "outputs": [
    {
     "data": {
      "image/png": "[encoded data removed]",
      "text/plain": [
       "<Figure size 432x288 with 1 Axes>"
      ]
     },
     "metadata": {},
     "output_type": "display_data"
    }
   ],
   "source": [
    "from statsmodels.graphics.gofplots import qqplot\n",
    "import matplotlib.pyplot as plt\n",
    "from matplotlib import pyplot\n",
    "\n",
    "qqplot(df.loc[:,'difference'], line='s')\n",
    "pyplot.show()"
   ]
  },
  {
   "cell_type": "code",
   "execution_count": 54,
   "metadata": {},
   "outputs": [
    {
     "name": "stdout",
     "output_type": "stream",
     "text": [
      "Statistic=0.927, p=0.132\n",
      "Sample looks Normal (fail to reject H0)\n"
     ]
    }
   ],
   "source": [
    "from scipy import stats\n",
    "from scipy.stats import shapiro\n",
    "\n",
    "stat, p = shapiro(df.loc[:,'difference'])\n",
    "print('Statistic=%.3f, p=%.3f' % (stat, p))\n",
    "\n",
    "alpha = 0.05\n",
    "if p > alpha:\n",
    "    print('Sample looks Normal (fail to reject H0)')\n",
    "else:\n",
    "    print('Sample does not look Normal (reject H0)')"
   ]
  },
  {
   "cell_type": "code",
   "execution_count": 75,
   "metadata": {},
   "outputs": [
    {
     "name": "stdout",
     "output_type": "stream",
     "text": [
      "Critical t value: 8.03024585457061\n",
      "p-value: 0.06482897928896914\n",
      "alpha: 0.01\n",
      "Fail to reject H0 at 0.01 significance level, Reject H1\n",
      "It cannot be assumed that the population mean temperature difference is greater than 0, given this sample\n"
     ]
    }
   ],
   "source": [
    "# H0: difference > 0\n",
    "# H1: difference <= 0\n",
    "u = 0\n",
    "sample_mean = df.loc[:,'difference'].mean()\n",
    "SD = df.loc[:,'difference'].std()\n",
    "alpha = 0.01\n",
    "t = (sample_mean - u) / (SD / sqrt(df.shape[0]))\n",
    "\n",
    "deg_f = df.shape[0]-1\n",
    "p_value = 2*(1-stats.t.cdf(z, deg_f))\n",
    "print('Critical t value: ' + str(t))\n",
    "print('p-value: ' + str(p_value))\n",
    "print('alpha: ' + str(alpha))\n",
    "\n",
    "if p_value > alpha:\n",
    "    print('Fail to reject H0 at 0.01 significance level, Reject H1')\n",
    "else:\n",
    "    print('Reject H0 at 0.01 significance level, Suggest H1')\n",
    "\n",
    "print('It cannot be assumed that the population mean temperature difference is greater than 0, given this sample')"
   ]
  },
  {
   "cell_type": "markdown",
   "metadata": {},
   "source": [
    "![alt text](q4.PNG \"Q4\")"
   ]
  },
  {
   "cell_type": "markdown",
   "metadata": {},
   "source": [
    "FALSE. Degrees of freedom is calculated as n-1, so in this case a Student's t distribution with 4 degrees of freedom should be used."
   ]
  }
 ],
 "metadata": {
  "kernelspec": {
   "display_name": "Python 3",
   "language": "python",
   "name": "python3"
  },
  "language_info": {
   "codemirror_mode": {
    "name": "ipython",
    "version": 3
   },
   "file_extension": ".py",
   "mimetype": "text/x-python",
   "name": "python",
   "nbconvert_exporter": "python",
   "pygments_lexer": "ipython3",
   "version": "3.7.3"
  }
 },
 "nbformat": 4,
 "nbformat_minor": 2
}
