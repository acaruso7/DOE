{
 "cells": [
  {
   "cell_type": "markdown",
   "metadata": {},
   "source": [
    "# Problem 1"
   ]
  },
  {
   "cell_type": "markdown",
   "metadata": {},
   "source": [
    "1. You are conducting a study to see if students do better when they study all at once or in intervals.\n",
    "One group of 12 participants took a test after studying for one hour continuously. The other group of\n",
    "12 participants took a test after studying for three twenty minute sessions. The first group had a mean\n",
    "score of 75 and a variance of 120. The second group had a mean score of 86 and a variance of 100.\n",
    "Assuming the normal populations, independent samples, and __equal population variances conditions\n",
    "hold__, are the mean test scores of these two groups signifcantly different at the 0.05 level?"
   ]
  },
  {
   "cell_type": "markdown",
   "metadata": {},
   "source": [
    "$$ H_{o}: \\mu_{1} - \\mu_{2} = 0$$\n",
    "$$ H_{a}: \\mu_{1} - \\mu_{2} \\neq 0$$\n",
    "<br>\n",
    "$$ \\alpha = 0.05, n_{1} = n_{2} = 12 $$\n",
    "$$ \\bar{x_1} = 75, S_{1}^2 = 120 $$\n",
    "$$ \\bar{x_2} = 86, S_{2}^2 = 100 $$\n",
    "<br>\n",
    "<center> Assume $ \\sigma_{1}^{2} = \\sigma_{2}^{2} $ --> use pooled variance to calculate t-statistic </center>\n",
    "<br>\n",
    "$$ Pooled Variance = S_{p}^2 = \\frac{(n_{1}-1)S_{1}^{2} + (n_{2}-2)S_{2}^{2}}{(n_{1}-1) + (n_{2}-2)} $$\n",
    "<br>\n",
    "$$ t = \\frac{(\\bar{x_1} - \\bar{x_2}) - (\\mu_{1} - \\mu_{2})}{\\sqrt{S_{p}^{2}(\\frac{1}{n_1}+\\frac{1}{n_2})}} $$"
   ]
  },
  {
   "cell_type": "code",
   "execution_count": 1,
   "metadata": {},
   "outputs": [],
   "source": [
    "from math import sqrt\n",
    "\n",
    "alpha = 0.05\n",
    "n1 = 12\n",
    "n2 = 12\n",
    "x1_bar = 75\n",
    "x2_bar = 86\n",
    "x1_var = 120\n",
    "x2_var = 100\n",
    "x1_stdev = sqrt(x1_var)\n",
    "x2_stdev = sqrt(x2_var)"
   ]
  },
  {
   "cell_type": "code",
   "execution_count": 2,
   "metadata": {},
   "outputs": [
    {
     "name": "stdout",
     "output_type": "stream",
     "text": [
      "t-statistic calculated manually: -2.5635037983466944\n",
      "p-value calculated manually: 0.017718263304337192\n",
      "\n",
      "\n",
      "t-statistic calculated with scipy: -2.569046515733026\n",
      "p-value calculated with scipy: 0.01750305015134744\n"
     ]
    }
   ],
   "source": [
    "import scipy\n",
    "from scipy.stats import ttest_ind_from_stats\n",
    "from scipy.special import stdtr\n",
    "\n",
    "pooled_var = (((n1 - 1)*x1_var) + ((n2 - 2)*x2_var)) / ((n1 - 1) + (n2 - 2))\n",
    "t = ((x1_bar - x2_bar) - (0)) / sqrt(pooled_var*((1/n1) + (1/n2))) #assume Ho is true: u1 - u2 = 0\n",
    "dof = n1 + n2 - 2\n",
    "p = 2*stdtr(dof, t)\n",
    "print('t-statistic calculated manually: ' + str(t))\n",
    "print('p-value calculated manually: ' + str(p))\n",
    "print('\\n')\n",
    "\n",
    "t, p = scipy.stats.ttest_ind_from_stats(x1_bar, x1_stdev, n1, x2_bar, x2_stdev, n2, equal_var=True)\n",
    "print('t-statistic calculated with scipy: ' + str(t))\n",
    "print('p-value calculated with scipy: ' + str(p))"
   ]
  },
  {
   "cell_type": "markdown",
   "metadata": {},
   "source": [
    "Since the calculated p-value of 0.017 is less than $ \\alpha = 0.05 $, we must reject the alternate hypothesis and fail to reject the null hypothesis. __It can be assumed that the mean test scores of the two groups are not significantly different.__"
   ]
  },
  {
   "cell_type": "markdown",
   "metadata": {},
   "source": [
    "# Problem 2"
   ]
  },
  {
   "cell_type": "markdown",
   "metadata": {},
   "source": [
    "2. Find a file NHANES.dat. It contains a large data set related to patients profile and their health status.\n",
    "Suppose we are interested in whether BMI (Body Mass Index) is different between Male and Female\n",
    "groups. Is there an evidence of equal variance at significance level 0.05? Perform an appropriate\n",
    "two-sample t-test."
   ]
  },
  {
   "cell_type": "code",
   "execution_count": 3,
   "metadata": {},
   "outputs": [
    {
     "data": {
      "text/html": [
       "<div>\n",
       "<style scoped>\n",
       "    .dataframe tbody tr th:only-of-type {\n",
       "        vertical-align: middle;\n",
       "    }\n",
       "\n",
       "    .dataframe tbody tr th {\n",
       "        vertical-align: top;\n",
       "    }\n",
       "\n",
       "    .dataframe thead th {\n",
       "        text-align: right;\n",
       "    }\n",
       "</style>\n",
       "<table border=\"1\" class=\"dataframe\">\n",
       "  <thead>\n",
       "    <tr style=\"text-align: right;\">\n",
       "      <th></th>\n",
       "      <th>Gender</th>\n",
       "      <th>Body Mass Index (kg/m**2)</th>\n",
       "    </tr>\n",
       "  </thead>\n",
       "  <tbody>\n",
       "    <tr>\n",
       "      <th>0</th>\n",
       "      <td>2</td>\n",
       "      <td>58.04</td>\n",
       "    </tr>\n",
       "    <tr>\n",
       "      <th>1</th>\n",
       "      <td>1</td>\n",
       "      <td>30.05</td>\n",
       "    </tr>\n",
       "    <tr>\n",
       "      <th>2</th>\n",
       "      <td>1</td>\n",
       "      <td>27.56</td>\n",
       "    </tr>\n",
       "    <tr>\n",
       "      <th>3</th>\n",
       "      <td>1</td>\n",
       "      <td>23.34</td>\n",
       "    </tr>\n",
       "    <tr>\n",
       "      <th>4</th>\n",
       "      <td>1</td>\n",
       "      <td>33.64</td>\n",
       "    </tr>\n",
       "  </tbody>\n",
       "</table>\n",
       "</div>"
      ],
      "text/plain": [
       "   Gender  Body Mass Index (kg/m**2)\n",
       "0       2                      58.04\n",
       "1       1                      30.05\n",
       "2       1                      27.56\n",
       "3       1                      23.34\n",
       "4       1                      33.64"
      ]
     },
     "metadata": {},
     "output_type": "display_data"
    },
    {
     "name": "stdout",
     "output_type": "stream",
     "text": [
      "NULL VALUES\n"
     ]
    },
    {
     "data": {
      "text/plain": [
       "Gender                         0\n",
       "Body Mass Index (kg/m**2)    261\n",
       "dtype: int64"
      ]
     },
     "metadata": {},
     "output_type": "display_data"
    },
    {
     "name": "stdout",
     "output_type": "stream",
     "text": [
      "The sample sizes of each group are: Male - 2663, Female - 2725\n"
     ]
    }
   ],
   "source": [
    "import pandas as pd\n",
    "df = pd.read_excel('NHANES_for_PopHealthPortal.xls', index_col=None)\n",
    "df = df.iloc[:,[1,8]]\n",
    "display(df.head())\n",
    "\n",
    "df.isnull().values.any() #True - there are null values\n",
    "countNaN = len(df) - df.count() #count of NaN values = count of all values (len(df)) - count of non-NaN values (df.count)\n",
    "print('NULL VALUES')\n",
    "display(countNaN) #display the count of null values for each column\n",
    "\n",
    "#drop null rows\n",
    "df = df[pd.notnull(df['Body Mass Index (kg/m**2)'])]\n",
    "\n",
    "#separate data by groups (male and female) . . . . . 2 = Female, 1 = Male\n",
    "male_rows = df.loc[df['Gender'] == 1]\n",
    "n1 = len(male_rows)\n",
    "female_rows = df.loc[df['Gender'] == 2]\n",
    "n2 = len(female_rows)\n",
    "\n",
    "print('The sample sizes of each group are: Male - ' + str(n1) + ', Female - ' + str(n2))"
   ]
  },
  {
   "cell_type": "markdown",
   "metadata": {},
   "source": [
    "#### Check for Normality of Male Group (n = 2663)"
   ]
  },
  {
   "cell_type": "code",
   "execution_count": 15,
   "metadata": {},
   "outputs": [
    {
     "data": {
      "image/png": "[encoded data removed]",
      "text/plain": [
       "<Figure size 432x288 with 1 Axes>"
      ]
     },
     "metadata": {},
     "output_type": "display_data"
    },
    {
     "data": {
      "text/plain": [
       "array([[<matplotlib.axes._subplots.AxesSubplot object at 0x000001DA29BC24E0>]],\n",
       "      dtype=object)"
      ]
     },
     "execution_count": 15,
     "metadata": {},
     "output_type": "execute_result"
    },
    {
     "data": {
      "image/png": "[encoded data removed]",
      "text/plain": [
       "<Figure size 432x288 with 1 Axes>"
      ]
     },
     "metadata": {},
     "output_type": "display_data"
    }
   ],
   "source": [
    "from statsmodels.graphics.gofplots import qqplot\n",
    "import matplotlib.pyplot as plt\n",
    "from matplotlib import pyplot\n",
    "\n",
    "qqplot(male_rows.iloc[:,1], line='s')\n",
    "pyplot.show()\n",
    "\n",
    "male_rows.hist(column='Body Mass Index (kg/m**2)', bins=50)"
   ]
  },
  {
   "cell_type": "code",
   "execution_count": 5,
   "metadata": {},
   "outputs": [
    {
     "name": "stdout",
     "output_type": "stream",
     "text": [
      "Statistic=0.927, p=0.000\n",
      "Sample does not look Normal (reject H0)\n"
     ]
    }
   ],
   "source": [
    "from scipy.stats import shapiro\n",
    "\n",
    "stat, p = shapiro(male_rows.iloc[:,1])\n",
    "print('Statistic=%.3f, p=%.3f' % (stat, p))\n",
    "\n",
    "alpha = 0.05\n",
    "if p > alpha:\n",
    "    print('Sample looks Normal (fail to reject H0)')\n",
    "else:\n",
    "    print('Sample does not look Normal (reject H0)')"
   ]
  },
  {
   "cell_type": "markdown",
   "metadata": {},
   "source": [
    "#### Check for Normality of Female Group (n = 2725)"
   ]
  },
  {
   "cell_type": "code",
   "execution_count": 6,
   "metadata": {},
   "outputs": [
    {
     "data": {
      "image/png": "[encoded data removed]",
      "text/plain": [
       "<Figure size 432x288 with 1 Axes>"
      ]
     },
     "metadata": {},
     "output_type": "display_data"
    },
    {
     "data": {
      "text/plain": [
       "array([[<matplotlib.axes._subplots.AxesSubplot object at 0x000001DA29761BE0>]],\n",
       "      dtype=object)"
      ]
     },
     "execution_count": 6,
     "metadata": {},
     "output_type": "execute_result"
    },
    {
     "data": {
      "image/png": "[encoded data removed]",
      "text/plain": [
       "<Figure size 432x288 with 1 Axes>"
      ]
     },
     "metadata": {},
     "output_type": "display_data"
    }
   ],
   "source": [
    "qqplot(female_rows.iloc[:,1], line='s')\n",
    "pyplot.show()\n",
    "\n",
    "female_rows.hist(column='Body Mass Index (kg/m**2)', bins=50)"
   ]
  },
  {
   "cell_type": "code",
   "execution_count": 7,
   "metadata": {},
   "outputs": [
    {
     "name": "stdout",
     "output_type": "stream",
     "text": [
      "Statistic=0.943, p=0.000\n",
      "Sample does not look Normal (reject H0)\n"
     ]
    }
   ],
   "source": [
    "stat, p = shapiro(female_rows.iloc[:,1])\n",
    "print('Statistic=%.3f, p=%.3f' % (stat, p))\n",
    "\n",
    "alpha = 0.05\n",
    "if p > alpha:\n",
    "    print('Sample looks Normal (fail to reject H0)')\n",
    "else:\n",
    "    print('Sample does not look Normal (reject H0)')"
   ]
  },
  {
   "cell_type": "markdown",
   "metadata": {},
   "source": [
    "Although the Shapiro Wilk test indicates a non-normal distribution for both groups, the QQ plots and histograms generated show that the data only slightly departs from a normal distribution - therefore it is safe to carry out an F-test for equality of population variances."
   ]
  },
  {
   "cell_type": "markdown",
   "metadata": {},
   "source": [
    "#### F-test for Variance Equality\n",
    "<br>\n",
    "$$ H_{o}: \\sigma_{1}^{2} = \\sigma_{2}^{2} $$\n",
    "$$ H_{a}: \\sigma_{1}^{2} \\neq \\sigma_{2}^{2} $$\n",
    "<br>\n",
    "$$ F = \\frac{S_{1}^{2}}{S_{2}^{2}} $$"
   ]
  },
  {
   "cell_type": "code",
   "execution_count": 16,
   "metadata": {},
   "outputs": [
    {
     "name": "stdout",
     "output_type": "stream",
     "text": [
      "F-statistic: 1.4747981794878329\n",
      "F-critical: 1.065475829412733\n",
      "Reject the null hypothesis - the population variances are not equal\n"
     ]
    }
   ],
   "source": [
    "male_var = male_rows.loc[:,'Body Mass Index (kg/m**2)'].var()\n",
    "female_var = female_rows.loc[:,'Body Mass Index (kg/m**2)'].var()\n",
    "#the variance of the female group is larger --> this will be used as the numerator in the F stat calculation\n",
    "\n",
    "F_stat = female_var / male_var\n",
    "dof1 = len(female_rows) - 1\n",
    "dof2 = len(male_rows) - 1\n",
    "\n",
    "F_crit = scipy.stats.f.ppf(q=1-0.05, dfn=dof1, dfd=dof2)\n",
    "\n",
    "print('F-statistic: ' + str(F_stat))\n",
    "print('F-critical: ' + str(F_crit))\n",
    "\n",
    "if F_stat > F_crit:\n",
    "    print('Reject the null hypothesis - the population variances are not equal')\n",
    "else:\n",
    "    print('Fail to reject the null hypothesis - the population variances are equal')"
   ]
  },
  {
   "cell_type": "markdown",
   "metadata": {},
   "source": [
    "#### Two Sample t Test"
   ]
  },
  {
   "cell_type": "markdown",
   "metadata": {},
   "source": [
    "$$ H_{o}: \\mu_{1} - \\mu_{2} = 0$$\n",
    "$$ H_{a}: \\mu_{1} - \\mu_{2} \\neq 0$$\n",
    "<br>\n",
    "$$ \\alpha = 0.05 $$"
   ]
  },
  {
   "cell_type": "code",
   "execution_count": 9,
   "metadata": {},
   "outputs": [
    {
     "name": "stdout",
     "output_type": "stream",
     "text": [
      "t statistic: -4.177369508839235\n",
      "p-value: 2.996975923839284e-05\n"
     ]
    }
   ],
   "source": [
    "male_mean = male_rows.iloc[:,1].mean()\n",
    "male_std = male_rows.iloc[:,1].std()\n",
    "female_mean = female_rows.iloc[:,1].mean()\n",
    "female_std = female_rows.iloc[:,1].std()\n",
    "\n",
    "t, p = scipy.stats.ttest_ind_from_stats(male_mean, male_std, len(male_rows), \n",
    "                                        female_mean, female_std, len(female_rows), equal_var=False)\n",
    "\n",
    "\n",
    "print('t statistic: ' + str(t))\n",
    "print('p-value: ' + str(p))"
   ]
  },
  {
   "cell_type": "markdown",
   "metadata": {},
   "source": [
    "The results of the above two smaple t test (unequal variances) indicate that the null hypothesis should be rejected, and the alternate hypothesis should be suggested. That is, __there IS a significant difference in the population means of the Male and Female group with regard to BMI.__"
   ]
  },
  {
   "cell_type": "markdown",
   "metadata": {},
   "source": [
    "# Problem 3"
   ]
  },
  {
   "cell_type": "markdown",
   "metadata": {},
   "source": [
    "3. The female cuckoo lays her eggs into the nests of foster parents. The foster parents are usually deceived,\n",
    "probably because of the similarity in the sizes of the eggs. Lengths of cuckoo eggs (in millimeters)\n",
    "found in the nests of hedge sparrows, robins, and wrens are shown below:\n",
    "<br>\n",
    "Hedge sparrow: 22.0, 23.9, 20.9, 23.8, 25.0, 24.0, 21.7, 23.8, 22.8, 23.1, 23.1, 23.5, 23.0, 23.0\n",
    "<br>\n",
    "Robin: 21.8, 23.0, 23.3, 22.4, 23.0, 23.0, 23.0, 22.4, 23.9, 22.3, 22.0, 22.6, 22.0, 22.1, 21.1, 23.0\n",
    "<br>\n",
    "Wren: 19.8, 22.1, 21.5, 20.9, 22.0, 21.0, 22.3, 21.0, 20.3, 20.9, 22.0, 20.0, 20.8, 21.2, 21.0\n",
    "<br>\n",
    "It is believed that the size of the egg influences the female cuckoo in her selection of the foster parents.\n",
    "Do the data support this hypothesis? Test whether or not the mean lengths of cuckoo eggs found\n",
    "in the nests of the three foster-parent species are the same. (Here, don't forget to check each of the\n",
    "underlying 'assumptions.' )"
   ]
  },
  {
   "cell_type": "code",
   "execution_count": 10,
   "metadata": {},
   "outputs": [
    {
     "data": {
      "text/html": [
       "<div>\n",
       "<style scoped>\n",
       "    .dataframe tbody tr th:only-of-type {\n",
       "        vertical-align: middle;\n",
       "    }\n",
       "\n",
       "    .dataframe tbody tr th {\n",
       "        vertical-align: top;\n",
       "    }\n",
       "\n",
       "    .dataframe thead th {\n",
       "        text-align: right;\n",
       "    }\n",
       "</style>\n",
       "<table border=\"1\" class=\"dataframe\">\n",
       "  <thead>\n",
       "    <tr style=\"text-align: right;\">\n",
       "      <th></th>\n",
       "      <th>Hedge Sparrow</th>\n",
       "      <th>Robin</th>\n",
       "      <th>Wren</th>\n",
       "    </tr>\n",
       "  </thead>\n",
       "  <tbody>\n",
       "    <tr>\n",
       "      <th>0</th>\n",
       "      <td>22.0</td>\n",
       "      <td>21.8</td>\n",
       "      <td>19.8</td>\n",
       "    </tr>\n",
       "    <tr>\n",
       "      <th>1</th>\n",
       "      <td>23.9</td>\n",
       "      <td>23.0</td>\n",
       "      <td>22.1</td>\n",
       "    </tr>\n",
       "    <tr>\n",
       "      <th>2</th>\n",
       "      <td>20.9</td>\n",
       "      <td>23.3</td>\n",
       "      <td>21.5</td>\n",
       "    </tr>\n",
       "    <tr>\n",
       "      <th>3</th>\n",
       "      <td>23.8</td>\n",
       "      <td>22.4</td>\n",
       "      <td>20.9</td>\n",
       "    </tr>\n",
       "    <tr>\n",
       "      <th>4</th>\n",
       "      <td>25.0</td>\n",
       "      <td>23.0</td>\n",
       "      <td>22.0</td>\n",
       "    </tr>\n",
       "    <tr>\n",
       "      <th>5</th>\n",
       "      <td>24.0</td>\n",
       "      <td>23.0</td>\n",
       "      <td>21.0</td>\n",
       "    </tr>\n",
       "    <tr>\n",
       "      <th>6</th>\n",
       "      <td>21.7</td>\n",
       "      <td>23.0</td>\n",
       "      <td>22.3</td>\n",
       "    </tr>\n",
       "    <tr>\n",
       "      <th>7</th>\n",
       "      <td>23.8</td>\n",
       "      <td>22.4</td>\n",
       "      <td>21.0</td>\n",
       "    </tr>\n",
       "    <tr>\n",
       "      <th>8</th>\n",
       "      <td>22.8</td>\n",
       "      <td>23.9</td>\n",
       "      <td>20.3</td>\n",
       "    </tr>\n",
       "    <tr>\n",
       "      <th>9</th>\n",
       "      <td>23.1</td>\n",
       "      <td>22.3</td>\n",
       "      <td>20.9</td>\n",
       "    </tr>\n",
       "    <tr>\n",
       "      <th>10</th>\n",
       "      <td>23.1</td>\n",
       "      <td>22.0</td>\n",
       "      <td>22.0</td>\n",
       "    </tr>\n",
       "    <tr>\n",
       "      <th>11</th>\n",
       "      <td>23.5</td>\n",
       "      <td>22.6</td>\n",
       "      <td>20.0</td>\n",
       "    </tr>\n",
       "    <tr>\n",
       "      <th>12</th>\n",
       "      <td>23.0</td>\n",
       "      <td>22.0</td>\n",
       "      <td>20.8</td>\n",
       "    </tr>\n",
       "    <tr>\n",
       "      <th>13</th>\n",
       "      <td>23.0</td>\n",
       "      <td>22.1</td>\n",
       "      <td>21.2</td>\n",
       "    </tr>\n",
       "    <tr>\n",
       "      <th>14</th>\n",
       "      <td>NaN</td>\n",
       "      <td>21.1</td>\n",
       "      <td>21.0</td>\n",
       "    </tr>\n",
       "    <tr>\n",
       "      <th>15</th>\n",
       "      <td>NaN</td>\n",
       "      <td>23.0</td>\n",
       "      <td>NaN</td>\n",
       "    </tr>\n",
       "  </tbody>\n",
       "</table>\n",
       "</div>"
      ],
      "text/plain": [
       "    Hedge Sparrow  Robin  Wren\n",
       "0            22.0   21.8  19.8\n",
       "1            23.9   23.0  22.1\n",
       "2            20.9   23.3  21.5\n",
       "3            23.8   22.4  20.9\n",
       "4            25.0   23.0  22.0\n",
       "5            24.0   23.0  21.0\n",
       "6            21.7   23.0  22.3\n",
       "7            23.8   22.4  21.0\n",
       "8            22.8   23.9  20.3\n",
       "9            23.1   22.3  20.9\n",
       "10           23.1   22.0  22.0\n",
       "11           23.5   22.6  20.0\n",
       "12           23.0   22.0  20.8\n",
       "13           23.0   22.1  21.2\n",
       "14            NaN   21.1  21.0\n",
       "15            NaN   23.0   NaN"
      ]
     },
     "execution_count": 10,
     "metadata": {},
     "output_type": "execute_result"
    }
   ],
   "source": [
    "hedge = [22.0, 23.9, 20.9, 23.8, 25.0, 24.0, 21.7, 23.8, 22.8, 23.1, 23.1, 23.5, 23.0, 23.0]\n",
    "robin = [21.8, 23.0, 23.3, 22.4, 23.0, 23.0, 23.0, 22.4, 23.9, 22.3, 22.0, 22.6, 22.0, 22.1, 21.1, 23.0]\n",
    "wren = [19.8, 22.1, 21.5, 20.9, 22.0, 21.0, 22.3, 21.0, 20.3, 20.9, 22.0, 20.0, 20.8, 21.2, 21.0]\n",
    "\n",
    "df1 = pd.DataFrame()\n",
    "df1['Hedge Sparrow'] = hedge\n",
    "df2 = pd.DataFrame()\n",
    "df2['Robin'] = robin\n",
    "df3 = pd.DataFrame()\n",
    "df3['Wren'] = wren\n",
    "\n",
    "\n",
    "df = pd.concat([df1,df2,df3], ignore_index=True, axis=1)\n",
    "df.columns = ['Hedge Sparrow', 'Robin', 'Wren']\n",
    "df"
   ]
  },
  {
   "cell_type": "markdown",
   "metadata": {},
   "source": [
    "#### Check for Normality of Groups"
   ]
  },
  {
   "cell_type": "code",
   "execution_count": 11,
   "metadata": {},
   "outputs": [
    {
     "data": {
      "image/png": "[encoded data removed]",
      "text/plain": [
       "<Figure size 432x288 with 1 Axes>"
      ]
     },
     "metadata": {},
     "output_type": "display_data"
    },
    {
     "data": {
      "image/png": "[encoded data removed]",
      "text/plain": [
       "<Figure size 432x288 with 1 Axes>"
      ]
     },
     "metadata": {},
     "output_type": "display_data"
    },
    {
     "data": {
      "image/png": "[encoded data removed]",
      "text/plain": [
       "<Figure size 432x288 with 1 Axes>"
      ]
     },
     "metadata": {},
     "output_type": "display_data"
    }
   ],
   "source": [
    "qqplot(df['Hedge Sparrow'], line='s')\n",
    "pyplot.show()\n",
    "\n",
    "qqplot(df['Robin'], line='s')\n",
    "pyplot.show()\n",
    "\n",
    "qqplot(df['Wren'], line='s')\n",
    "pyplot.show()"
   ]
  },
  {
   "cell_type": "code",
   "execution_count": 12,
   "metadata": {},
   "outputs": [
    {
     "name": "stdout",
     "output_type": "stream",
     "text": [
      "Sample looks Normal (fail to reject H0)\n",
      "Sample looks Normal (fail to reject H0)\n",
      "Sample looks Normal (fail to reject H0)\n"
     ]
    }
   ],
   "source": [
    "shapiro_stats = []\n",
    "shapiro_stats.append(shapiro(df['Hedge Sparrow'][pd.notnull(df['Hedge Sparrow'])]))\n",
    "shapiro_stats.append(shapiro(df['Robin']))\n",
    "shapiro_stats.append(shapiro(df['Wren'][pd.notnull(df['Wren'])]))\n",
    "\n",
    "alpha = 0.05\n",
    "for stat in shapiro_stats:\n",
    "    if stat[1] > alpha:\n",
    "        print('Sample looks Normal (fail to reject H0)')\n",
    "    else:\n",
    "        print('Sample does not look Normal (reject H0)')"
   ]
  },
  {
   "cell_type": "markdown",
   "metadata": {},
   "source": [
    "#### Bartlett's Test for Equality of Variances\n",
    "<br>\n",
    "Since there is strong evidence that the three groups above each come from a normal population, Bartlett's Test will be used to determine whether there are any significant differences in variance (Levene's Test is less sensitive to departures from normality, so Bartlett's Test gives better results)\n",
    "<br>\n",
    "<br>\n",
    "$$ H_{o}: \\sigma_{1}^{2} = \\sigma_{2}^{2} = \\sigma_{3}^{2} $$\n",
    "<center> $ H_{a}: $ At least one $ \\sigma^{2} $ differs from the others </center>"
   ]
  },
  {
   "cell_type": "code",
   "execution_count": 13,
   "metadata": {},
   "outputs": [
    {
     "name": "stdout",
     "output_type": "stream",
     "text": [
      "p-value: 0.24067027124837026\n",
      "Fail to reject the null - population variances are equal\n"
     ]
    }
   ],
   "source": [
    "stat, p = scipy.stats.bartlett(df['Hedge Sparrow'][pd.notnull(df['Hedge Sparrow'])],\n",
    "                              df['Robin'],\n",
    "                              df['Wren'][pd.notnull(df['Wren'])])\n",
    "\n",
    "print('p-value: ' + str(p))\n",
    "\n",
    "if p > 0.05:\n",
    "    print('Fail to reject the null - population variances are equal')\n",
    "else:\n",
    "    print('Reject the null - population variances are not equal')"
   ]
  },
  {
   "cell_type": "markdown",
   "metadata": {},
   "source": [
    "#### One-way ANOVA\n",
    "$$ H_{o}: \\mu_{1} = \\mu_{2} = \\mu_{3} $$\n",
    "<center> $ H_{a}: $ not all $ \\mu $ are the same (at least one is different) </center>"
   ]
  },
  {
   "cell_type": "code",
   "execution_count": 18,
   "metadata": {},
   "outputs": [
    {
     "name": "stdout",
     "output_type": "stream",
     "text": [
      "F-statistic: 22.328738729886922\n",
      "p-value: 2.479180790463798e-07\n",
      "Reject the null - at least one population mean is significantly different from the others\n"
     ]
    }
   ],
   "source": [
    "from scipy import stats\n",
    "\n",
    "F_stat, p = stats.f_oneway(hedge, robin, wren)\n",
    "print('F-statistic: ' + str(F_stat))\n",
    "print('p-value: ' + str(p))\n",
    "\n",
    "if p > 0.05:\n",
    "    print('Fail to reject the null - not all population means are the same')\n",
    "else:\n",
    "    print('Reject the null - at least one population mean is significantly different from the others')"
   ]
  },
  {
   "cell_type": "markdown",
   "metadata": {},
   "source": [
    "Based on the results of the above one-way ANOVA test for equality of population means, it can be assumed that the size of the egg DOES influence the female cuckoos selection of foster parents. That is, there is a significant difference in the mean size of at least one of the types of eggs."
   ]
  },
  {
   "cell_type": "markdown",
   "metadata": {},
   "source": [
    "# Problem 4"
   ]
  },
  {
   "cell_type": "markdown",
   "metadata": {},
   "source": [
    "4. Recall the class note example on three promotions and sales volume difference percentage data; see\n",
    "Lecture 4-2.pdf lecture slide, page 7. Perform one-way ANOVA procedure to test\n",
    "<br>\n",
    "<br>\n",
    "$$ H_{o}: \\mu_{1} = \\mu_{2} = \\mu_{3} $$\n",
    "<center> $ H_{a}: $ not all $ \\mu $ are the same (at least one is different) </center>\n",
    "<br>\n",
    "<br>\n",
    "(a) Manual calculations in Excel - submitted as separate file\n",
    "<br>\n",
    "(b) Now, do it again via statistical software package and compare with the result in (a)."
   ]
  },
  {
   "cell_type": "code",
   "execution_count": 19,
   "metadata": {},
   "outputs": [
    {
     "data": {
      "text/html": [
       "<div>\n",
       "<style scoped>\n",
       "    .dataframe tbody tr th:only-of-type {\n",
       "        vertical-align: middle;\n",
       "    }\n",
       "\n",
       "    .dataframe tbody tr th {\n",
       "        vertical-align: top;\n",
       "    }\n",
       "\n",
       "    .dataframe thead th {\n",
       "        text-align: right;\n",
       "    }\n",
       "</style>\n",
       "<table border=\"1\" class=\"dataframe\">\n",
       "  <thead>\n",
       "    <tr style=\"text-align: right;\">\n",
       "      <th></th>\n",
       "      <th>Promotion 1</th>\n",
       "      <th>Promotion 2</th>\n",
       "      <th>Promotion 3</th>\n",
       "    </tr>\n",
       "  </thead>\n",
       "  <tbody>\n",
       "    <tr>\n",
       "      <th>0</th>\n",
       "      <td>9.5</td>\n",
       "      <td>8.5</td>\n",
       "      <td>7.7</td>\n",
       "    </tr>\n",
       "    <tr>\n",
       "      <th>1</th>\n",
       "      <td>3.2</td>\n",
       "      <td>9.0</td>\n",
       "      <td>11.3</td>\n",
       "    </tr>\n",
       "    <tr>\n",
       "      <th>2</th>\n",
       "      <td>4.7</td>\n",
       "      <td>7.9</td>\n",
       "      <td>9.7</td>\n",
       "    </tr>\n",
       "    <tr>\n",
       "      <th>3</th>\n",
       "      <td>7.5</td>\n",
       "      <td>5.0</td>\n",
       "      <td>11.5</td>\n",
       "    </tr>\n",
       "    <tr>\n",
       "      <th>4</th>\n",
       "      <td>8.3</td>\n",
       "      <td>3.2</td>\n",
       "      <td>12.4</td>\n",
       "    </tr>\n",
       "  </tbody>\n",
       "</table>\n",
       "</div>"
      ],
      "text/plain": [
       "   Promotion 1  Promotion 2  Promotion 3\n",
       "0          9.5          8.5          7.7\n",
       "1          3.2          9.0         11.3\n",
       "2          4.7          7.9          9.7\n",
       "3          7.5          5.0         11.5\n",
       "4          8.3          3.2         12.4"
      ]
     },
     "execution_count": 19,
     "metadata": {},
     "output_type": "execute_result"
    }
   ],
   "source": [
    "prom1 = [9.5, 3.2, 4.7, 7.5, 8.3]\n",
    "prom2 = [8.5, 9, 7.9, 5, 3.2]\n",
    "prom3 = [7.7, 11.3, 9.7, 11.5, 12.4]\n",
    "\n",
    "df = pd.DataFrame(\n",
    "    {'Promotion 1': prom1,\n",
    "     'Promotion 2': prom2,\n",
    "     'Promotion 3': prom3\n",
    "    })\n",
    "\n",
    "df"
   ]
  },
  {
   "cell_type": "markdown",
   "metadata": {},
   "source": [
    "#### Check for Normality of Groups"
   ]
  },
  {
   "cell_type": "code",
   "execution_count": 20,
   "metadata": {},
   "outputs": [
    {
     "data": {
      "image/png": "[encoded data removed]",
      "text/plain": [
       "<Figure size 432x288 with 1 Axes>"
      ]
     },
     "metadata": {},
     "output_type": "display_data"
    },
    {
     "data": {
      "image/png": "[encoded data removed]",
      "text/plain": [
       "<Figure size 432x288 with 1 Axes>"
      ]
     },
     "metadata": {},
     "output_type": "display_data"
    },
    {
     "data": {
      "image/png": "[encoded data removed]",
      "text/plain": [
       "<Figure size 432x288 with 1 Axes>"
      ]
     },
     "metadata": {},
     "output_type": "display_data"
    }
   ],
   "source": [
    "qqplot(df['Promotion 1'], line='s')\n",
    "pyplot.show()\n",
    "\n",
    "qqplot(df['Promotion 2'], line='s')\n",
    "pyplot.show()\n",
    "\n",
    "qqplot(df['Promotion 3'], line='s')\n",
    "pyplot.show()"
   ]
  },
  {
   "cell_type": "code",
   "execution_count": 21,
   "metadata": {},
   "outputs": [
    {
     "name": "stdout",
     "output_type": "stream",
     "text": [
      "Sample looks Normal (fail to reject H0)\n",
      "Sample looks Normal (fail to reject H0)\n",
      "Sample looks Normal (fail to reject H0)\n"
     ]
    }
   ],
   "source": [
    "shapiro_stats = []\n",
    "shapiro_stats.append(shapiro(df['Promotion 1']))\n",
    "shapiro_stats.append(shapiro(df['Promotion 2']))\n",
    "shapiro_stats.append(shapiro(df['Promotion 3']))\n",
    "\n",
    "\n",
    "for stat in shapiro_stats:\n",
    "    if stat[1] > alpha:\n",
    "        print('Sample looks Normal (fail to reject H0)')\n",
    "    else:\n",
    "        print('Sample does not look Normal (reject H0)')"
   ]
  },
  {
   "cell_type": "markdown",
   "metadata": {},
   "source": [
    "#### Bartlett's Test"
   ]
  },
  {
   "cell_type": "code",
   "execution_count": 22,
   "metadata": {},
   "outputs": [
    {
     "name": "stdout",
     "output_type": "stream",
     "text": [
      "p-value: 0.7920061568235258\n",
      "Fail to reject the null - population variances are equal\n"
     ]
    }
   ],
   "source": [
    "stat, p = scipy.stats.bartlett(df['Promotion 1'], df['Promotion 2'], df['Promotion 3'])\n",
    "\n",
    "print('p-value: ' + str(p))\n",
    "\n",
    "if p > 0.05:\n",
    "    print('Fail to reject the null - population variances are equal')\n",
    "else:\n",
    "    print('Reject the null - population variances are not equal')"
   ]
  },
  {
   "cell_type": "markdown",
   "metadata": {},
   "source": [
    "#### One-way ANOVA"
   ]
  },
  {
   "cell_type": "code",
   "execution_count": 23,
   "metadata": {},
   "outputs": [
    {
     "name": "stdout",
     "output_type": "stream",
     "text": [
      "F-statistic: 4.462515883100382\n",
      "p-value: 0.03557056147387298\n",
      "Reject the null - at least one population mean is significantly different from the others\n"
     ]
    }
   ],
   "source": [
    "F_stat, p = stats.f_oneway(prom1, prom2, prom3)\n",
    "print('F-statistic: ' + str(F_stat))\n",
    "print('p-value: ' + str(p))\n",
    "\n",
    "if p > 0.05:\n",
    "    print('Fail to reject the null - not all population means are the same')\n",
    "else:\n",
    "    print('Reject the null - at least one population mean is significantly different from the others')"
   ]
  },
  {
   "cell_type": "markdown",
   "metadata": {},
   "source": [
    "While additional statistical tests are required to determine with confidence which population mean differs from the others, in this case it is likely Promotion 3, since it's sample mean is so much larger than the other promotions."
   ]
  }
 ],
 "metadata": {
  "kernelspec": {
   "display_name": "Python 3",
   "language": "python",
   "name": "python3"
  },
  "language_info": {
   "codemirror_mode": {
    "name": "ipython",
    "version": 3
   },
   "file_extension": ".py",
   "mimetype": "text/x-python",
   "name": "python",
   "nbconvert_exporter": "python",
   "pygments_lexer": "ipython3",
   "version": "3.6.5"
  }
 },
 "nbformat": 4,
 "nbformat_minor": 2
}
